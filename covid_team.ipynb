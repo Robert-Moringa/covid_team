{
 "cells": [
  {
   "cell_type": "code",
   "execution_count": null,
   "metadata": {},
   "outputs": [],
   "source": [
    "# imports\n",
    "import numpy as np\n",
    "import matplotlib.pyplot as plt\n",
    "from scipy.integrate import solve_ivp"
   ]
  },
  {
   "cell_type": "code",
   "execution_count": null,
   "metadata": {},
   "outputs": [],
   "source": [
    "# parameters and initial conditions - patricia\n",
    "pi=0.004\n",
    "phi=0.02\n",
    "beta=0.06\n",
    "mu=0.002\n",
    "eta=0.1\n",
    "gamma=0.03\n",
    "delta=0.4\n",
    "\n",
    "# Initial conditions\n",
    "S0=100; E0=50; I0=10; R0=0\n",
    "initial_conditions=[S0,E0,I0,R0]\n",
    "\n",
    "\n",
    "# Time_span\n",
    "t_span = (0, 100)\n",
    "t_eval = np.linspace(t_span[0], t_span[1], 100)\n"
   ]
  },
  {
   "cell_type": "code",
   "execution_count": null,
   "metadata": {},
   "outputs": [],
   "source": [
    "# covid model - Lorna\n",
    "# Model\n",
    "def covid_model(time,y,pi,phi,beta,mu,eta,gamma,delta):\n",
    "    S,E,I,R = y\n",
    "\n",
    "    dSdt=pi*N+phi*E-(beta*I/N+mu)*S\n",
    "    dEdt=beta*S*I/N -(phi+eta+mu)*E\n",
    "    dIdt=eta*E - (gamma+mu+delta)*I\n",
    "    dRdt=gamma*I-mu*R\n",
    "\n",
    "    return [dSdt, dEdt, dIdt, dRdt]"
   ]
  },
  {
   "cell_type": "code",
   "execution_count": null,
   "metadata": {},
   "outputs": [],
   "source": [
    "# Model solution - Lorna\n",
    "# Solution 2\n",
    "solution = solve_ivp(covid_model, t_span, initial_conditions,method='RK45', args=(pi,phi,beta,mu,eta,gamma,delta), t_eval=t_eval)\n",
    "S,E,I,R = solution.y"
   ]
  },
  {
   "cell_type": "code",
   "execution_count": null,
   "metadata": {},
   "outputs": [],
   "source": [
    "# Graphs - Robert\n",
    "plt.figure(figsize=(7, 5))\n",
    "\n",
    "plt.plot(solution.t, S, color='blue',label=r'Susceptibles')\n",
    "plt.plot(solution.t, E, color='yellow',label=r'Exposed')\n",
    "plt.plot(solution.t, I, color='red',label=r'Infected')\n",
    "plt.plot(solution.t, R, color='green',label=r'Recovered')\n",
    "plt.legend()\n",
    "plt.xlabel('Years')\n",
    "plt.ylabel('Population')\n",
    "plt.title(r'COVID-19 Dynamics')\n",
    "plt.show()"
   ]
  }
 ],
 "metadata": {
  "language_info": {
   "name": "python"
  }
 },
 "nbformat": 4,
 "nbformat_minor": 2
}
