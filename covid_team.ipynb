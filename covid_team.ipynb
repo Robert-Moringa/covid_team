{
 "cells": [
  {
   "cell_type": "code",
   "execution_count": null,
   "metadata": {},
   "outputs": [],
   "source": [
    "# imports\n",
    "import numpy as np\n",
    "import matplotlib.pyplot as plt\n",
    "from scipy.integrate import solve_ivp"
   ]
  },
  {
   "cell_type": "code",
   "execution_count": null,
   "metadata": {},
   "outputs": [],
   "source": [
    "# parameters and initial conditions - patricia\n",
    "pi=0.004\n",
    "gamma=0.6\n"
   ]
  },
  {
   "cell_type": "code",
   "execution_count": null,
   "metadata": {},
   "outputs": [],
   "source": [
    "# covid model - Lorna"
   ]
  },
  {
   "cell_type": "code",
   "execution_count": null,
   "metadata": {},
   "outputs": [],
   "source": [
    "# Model solution - Lorna"
   ]
  },
  {
   "cell_type": "code",
   "execution_count": null,
   "metadata": {},
   "outputs": [],
   "source": [
    "# Graphs - Robert\n",
    "plt.figure(figsize=(7, 5))\n",
    "plt.plot(solution.t, S, color='blue',label=r'Susceptibles')\n",
    "plt.plot(solution.t, E, color='yellow',label=r'Exposed')\n",
    "plt.plot(solution.t, I, color='red',label=r'Infected')\n",
    "plt.plot(solution.t, R, color='green',label=r'Recovered')\n",
    "plt.legend()\n",
    "plt.xlabel('Years')\n",
    "plt.ylabel('Population')\n",
    "plt.title(r'COVID-19 Dynamics')\n",
    "plt.show()"
   ]
  }
 ],
 "metadata": {
  "language_info": {
   "name": "python"
  }
 },
 "nbformat": 4,
 "nbformat_minor": 2
}
